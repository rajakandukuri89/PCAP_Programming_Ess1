{
  "nbformat": 4,
  "nbformat_minor": 0,
  "metadata": {
    "colab": {
      "name": "PCAP Programming Ess1 Module4.ipynb",
      "provenance": [],
      "collapsed_sections": [],
      "authorship_tag": "ABX9TyNby5Yj1un5rqmhZK34cHGM",
      "include_colab_link": true
    },
    "kernelspec": {
      "name": "python3",
      "display_name": "Python 3"
    },
    "language_info": {
      "name": "python"
    }
  },
  "cells": [
    {
      "cell_type": "markdown",
      "metadata": {
        "id": "view-in-github",
        "colab_type": "text"
      },
      "source": [
        "<a href=\"https://colab.research.google.com/github/rajakandukuri89/PCAP_Programming_Ess1_Module3/blob/main/PCAP_Programming_Ess1_Module4.ipynb\" target=\"_parent\"><img src=\"https://colab.research.google.com/assets/colab-badge.svg\" alt=\"Open In Colab\"/></a>"
      ]
    },
    {
      "cell_type": "markdown",
      "source": [
        "# This note books presents the Lab task solutions of PCAP - Programming Essentials In Python English 0422a - Module 4\n",
        "\n",
        "\n"
      ],
      "metadata": {
        "id": "7xVeDXV8mmY5"
      }
    },
    {
      "cell_type": "code",
      "execution_count": null,
      "metadata": {
        "id": "1dOmULZqmk3s"
      },
      "outputs": [],
      "source": [
        ""
      ]
    }
  ]
}