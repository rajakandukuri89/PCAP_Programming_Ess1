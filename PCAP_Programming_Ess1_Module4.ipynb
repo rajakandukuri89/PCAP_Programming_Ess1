{
  "nbformat": 4,
  "nbformat_minor": 0,
  "metadata": {
    "colab": {
      "name": "PCAP Programming Ess1 Module4.ipynb",
      "provenance": [],
      "collapsed_sections": [],
      "authorship_tag": "ABX9TyMsSMl8FaujcLVvjxKanqAl",
      "include_colab_link": true
    },
    "kernelspec": {
      "name": "python3",
      "display_name": "Python 3"
    },
    "language_info": {
      "name": "python"
    }
  },
  "cells": [
    {
      "cell_type": "markdown",
      "metadata": {
        "id": "view-in-github",
        "colab_type": "text"
      },
      "source": [
        "<a href=\"https://colab.research.google.com/github/rajakandukuri89/PCAP_Programming_Ess1/blob/main/PCAP_Programming_Ess1_Module4.ipynb\" target=\"_parent\"><img src=\"https://colab.research.google.com/assets/colab-badge.svg\" alt=\"Open In Colab\"/></a>"
      ]
    },
    {
      "cell_type": "markdown",
      "source": [
        "# This note books presents the Lab task solutions of PCAP - Programming Essentials In Python English 0422a - Module 4\n",
        "\n",
        "\n"
      ],
      "metadata": {
        "id": "7xVeDXV8mmY5"
      }
    },
    {
      "cell_type": "markdown",
      "source": [
        "Your task is to write and test a function which takes one argument (a year) and returns True if the year is a leap year, or False otherwise.\n",
        "\n",
        "The seed of the function is already sown in the skeleton code in the editor.\n",
        "\n",
        "Note: we've also prepared a short testing code, which you can use to test your function.\n",
        "\n",
        "The code uses two lists - one with the test data, and the other containing the expected results. The code will tell you if any of your results are invalid.\n",
        "\n"
      ],
      "metadata": {
        "id": "zXDKNETee334"
      }
    },
    {
      "cell_type": "code",
      "execution_count": null,
      "metadata": {
        "id": "1dOmULZqmk3s"
      },
      "outputs": [],
      "source": [
        "def is_year_leap(year):\n",
        "    if (year%4==0 and year%100!=0) or (year%100==0 and year%400==0):\n",
        "        return True\n",
        "    else:\n",
        "        return False\n",
        "    \n",
        "    \n",
        "    \n",
        "\n",
        "test_data = [1900, 2000, 2016, 1987]\n",
        "test_results = [False, True, True, False]\n",
        "for i in range(len(test_data)):\n",
        "\tyr = test_data[i]\n",
        "\tprint(yr,\"->\",end=\"\")\n",
        "\tresult = is_year_leap(yr)\n",
        "\tif result == test_results[i]:\n",
        "\t\tprint(\"OK\")\n",
        "\telse:\n",
        "\t\tprint(\"Failed\")"
      ]
    }
  ]
}