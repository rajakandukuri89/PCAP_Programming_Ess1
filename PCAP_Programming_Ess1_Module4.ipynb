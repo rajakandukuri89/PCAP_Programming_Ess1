{
  "nbformat": 4,
  "nbformat_minor": 0,
  "metadata": {
    "colab": {
      "name": "PCAP Programming Ess1 Module4.ipynb",
      "provenance": [],
      "collapsed_sections": [],
      "authorship_tag": "ABX9TyNF0svweVfGjBds/pKLzD/E",
      "include_colab_link": true
    },
    "kernelspec": {
      "name": "python3",
      "display_name": "Python 3"
    },
    "language_info": {
      "name": "python"
    }
  },
  "cells": [
    {
      "cell_type": "markdown",
      "metadata": {
        "id": "view-in-github",
        "colab_type": "text"
      },
      "source": [
        "<a href=\"https://colab.research.google.com/github/rajakandukuri89/PCAP_Programming_Ess1/blob/main/PCAP_Programming_Ess1_Module4.ipynb\" target=\"_parent\"><img src=\"https://colab.research.google.com/assets/colab-badge.svg\" alt=\"Open In Colab\"/></a>"
      ]
    },
    {
      "cell_type": "markdown",
      "source": [
        "# This note books presents the Lab task solutions of PCAP - Programming Essentials In Python English 0422a - Module 4\n",
        "\n",
        "\n"
      ],
      "metadata": {
        "id": "7xVeDXV8mmY5"
      }
    },
    {
      "cell_type": "markdown",
      "source": [
        "Your task is to write and test a function which takes one argument (a year) and returns True if the year is a leap year, or False otherwise.\n",
        "\n",
        "The seed of the function is already sown in the skeleton code in the editor.\n",
        "\n",
        "Note: we've also prepared a short testing code, which you can use to test your function.\n",
        "\n",
        "The code uses two lists - one with the test data, and the other containing the expected results. The code will tell you if any of your results are invalid.\n",
        "\n"
      ],
      "metadata": {
        "id": "zXDKNETee334"
      }
    },
    {
      "cell_type": "code",
      "execution_count": null,
      "metadata": {
        "id": "1dOmULZqmk3s"
      },
      "outputs": [],
      "source": [
        "def is_year_leap(year):\n",
        "    if (year%4==0 and year%100!=0) or (year%100==0 and year%400==0):\n",
        "        return True\n",
        "    else:\n",
        "        return False\n",
        "    \n",
        "    \n",
        "    \n",
        "\n",
        "test_data = [1900, 2000, 2016, 1987]\n",
        "test_results = [False, True, True, False]\n",
        "for i in range(len(test_data)):\n",
        "\tyr = test_data[i]\n",
        "\tprint(yr,\"->\",end=\"\")\n",
        "\tresult = is_year_leap(yr)\n",
        "\tif result == test_results[i]:\n",
        "\t\tprint(\"OK\")\n",
        "\telse:\n",
        "\t\tprint(\"Failed\")"
      ]
    },
    {
      "cell_type": "markdown",
      "source": [
        "Your task is to write and test a function which takes two arguments (a year and a month) and returns the number of days for the given month/year pair (while only February is sensitive to the year value, your function should be universal).\n",
        "\n",
        "The initial part of the function is ready. Now, convince the function to return None if its arguments don't make sense.\n",
        "\n",
        "Of course, you can (and should) use the previously written and tested function (LAB 4.3.1.6). It may be very helpful. We encourage you to use a list filled with the months' lengths. You can create it inside the function - this trick will significantly shorten the code.\n",
        "\n",
        "We've prepared a testing code. Expand it to include more test cases"
      ],
      "metadata": {
        "id": "16HsQZzXjAY4"
      }
    },
    {
      "cell_type": "code",
      "source": [
        "def is_year_leap(year):\n",
        "    if (year%4==0 and year%100!=0) or (year%100==0 and year%400==0):\n",
        "        return True\n",
        "    else:\n",
        "        return False\n",
        "    \n",
        "\n",
        "def days_in_month(year, month):\n",
        "    if month>0 and month<13:\n",
        "      index = month-1\n",
        "    else:\n",
        "      return\n",
        "\n",
        "    days = [31,28,31,30,31,30,31,31,30,31,30,31]\n",
        "    if is_year_leap(year) and month==2:\n",
        "        return 29\n",
        "    else:\n",
        "        return days[index]\n",
        "\n",
        "test_years = [1900, 2000, 2016, 1987]\n",
        "test_months = [2, 2, 1, 11]\n",
        "test_results = [28, 29, 31, 30]\n",
        "for i in range(len(test_years)):\n",
        "\tyr = test_years[i]\n",
        "\tmo = test_months[i]\n",
        "\tprint(yr, mo, \"->\", end=\"\")\n",
        "\tresult = days_in_month(yr, mo)\n",
        "\tif result == test_results[i]:\n",
        "\t\tprint(\"OK\")\n",
        "\telse:\n",
        "\t\tprint(\"Failed\")"
      ],
      "metadata": {
        "colab": {
          "base_uri": "https://localhost:8080/"
        },
        "id": "rO6iQ7IfjAJT",
        "outputId": "0e032762-c155-43df-f9d4-2492ac0d3c72"
      },
      "execution_count": 19,
      "outputs": [
        {
          "output_type": "stream",
          "name": "stdout",
          "text": [
            "1900 2 ->OK\n",
            "2000 2 ->OK\n",
            "2016 1 ->OK\n",
            "1987 11 ->OK\n"
          ]
        }
      ]
    },
    {
      "cell_type": "code",
      "source": [
        "def is_year_leap(year):\n",
        "    if (year%4==0 and year%100!=0) or (year%100==0 and year%400==0):\n",
        "        return True\n",
        "    else:\n",
        "        return False\n",
        "    \n",
        "\n",
        "def days_in_month(year, month):\n",
        "    if month>0 and month<13:\n",
        "      index = month-1\n",
        "    else:\n",
        "      return\n",
        "\n",
        "    days = [31,28,31,30,31,30,31,31,30,31,30,31]\n",
        "    if is_year_leap(year) and month==2:\n",
        "        return 29\n",
        "    else:\n",
        "        return days[index]\n",
        "\n",
        "def day_of_year(year, month, day):\n",
        "    \n",
        "    if day>days_in_month(year, month):\n",
        "        return\n",
        "    elif month==1:\n",
        "        return day\n",
        "    else:\n",
        "        cday=0\n",
        "        for i in range(1,month):\n",
        "           cday += days_in_month(year, i)\n",
        "        return cday+day\n",
        "\n",
        "\n",
        "print(day_of_year(1900, 2, 28))\n",
        "\n",
        "\n",
        "test_years = [1900, 2000, 2016, 1987]\n",
        "test_months = [2, 2, 1, 11]\n",
        "test_days = [28, 29, 31, 30]\n",
        "test_results = [59,60,31,334]\n",
        "for i in range(len(test_years)):\n",
        "\tyr = test_years[i]\n",
        "\tmo = test_months[i]\n",
        "\tdy = test_days[i]\n",
        "\tprint(yr, mo, dy, \"->\", end=\"\")\n",
        "\tresult = day_of_year(yr, mo, dy)\n",
        "\tif result == test_results[i]:\n",
        "\t\tprint(\"OK\")\n",
        "\telse:\n",
        "\t\tprint(\"Failed\")\n"
      ],
      "metadata": {
        "colab": {
          "base_uri": "https://localhost:8080/"
        },
        "id": "K0q-4tMgrAjx",
        "outputId": "3915acf8-d2ee-4f65-f8b4-eb96513d6658"
      },
      "execution_count": 23,
      "outputs": [
        {
          "output_type": "stream",
          "name": "stdout",
          "text": [
            "59\n",
            "1900 2 28 ->OK\n",
            "2000 2 29 ->OK\n",
            "2016 1 31 ->OK\n",
            "1987 11 30 ->OK\n"
          ]
        }
      ]
    },
    {
      "cell_type": "markdown",
      "source": [
        "A natural number is prime if it is greater than 1 and has no divisors other than 1 and itself.\n",
        "\n",
        "Complicated? Not at all. For example, 8 isn't a prime number, as you can divide it by 2 and 4 (we can't use divisors equal to 1 and 8, as the definition prohibits this).\n",
        "\n",
        "On the other hand, 7 is a prime number, as we can't find any legal divisors for it.\n",
        "\n",
        "\n",
        "Your task is to write a function checking whether a number is prime or not.\n",
        "\n",
        "The function:\n",
        "\n",
        "is called is_prime;\n",
        "takes one argument (the value to check)\n",
        "returns True if the argument is a prime number, and False otherwise.\n",
        "Hint: try to divide the argument by all subsequent values (starting from 2) and check the remainder - if it's zero, your number cannot be a prime; think carefully about when you should stop the process.\n",
        "\n",
        "If you need to know the square root of any value, you can utilize the ** operator. Remember: the square root of x is the same as x0.5\n",
        "\n",
        "Complete the code in the editor.\n",
        "\n",
        "Run your code and check whether your output is the same as ours.\n",
        "\n",
        "Expected output\n",
        "2 3 5 7 11 13 17 19"
      ],
      "metadata": {
        "id": "n4vhnfq64690"
      }
    },
    {
      "cell_type": "code",
      "source": [
        "def is_prime(num):\n",
        "    if num == 2:\n",
        "        return True\n",
        "    elif num>2:\n",
        "        result = True\n",
        "        for i in range(2,num):\n",
        "            if num%i==0:\n",
        "                result = False\n",
        "                break\n",
        "        return result\n",
        "\n",
        "\n",
        "for i in range(1, 20):\n",
        "\tif is_prime(i + 1):\n",
        "\t\t\tprint(i + 1, end=\" \")\n",
        "print()\n"
      ],
      "metadata": {
        "id": "0huhm4eI45UO"
      },
      "execution_count": null,
      "outputs": []
    }
  ]
}