{
  "nbformat": 4,
  "nbformat_minor": 0,
  "metadata": {
    "colab": {
      "name": "PCAP - Programming Essentials In Python English 0422a part2_module1.ipynb",
      "provenance": [],
      "authorship_tag": "ABX9TyNGJPQ7JZ1m4JpEX+qtcFHR",
      "include_colab_link": true
    },
    "kernelspec": {
      "name": "python3",
      "display_name": "Python 3"
    },
    "language_info": {
      "name": "python"
    }
  },
  "cells": [
    {
      "cell_type": "markdown",
      "metadata": {
        "id": "view-in-github",
        "colab_type": "text"
      },
      "source": [
        "<a href=\"https://colab.research.google.com/github/rajakandukuri89/PCAP_Programming_Ess1/blob/main/PCAP_Programming_Essentials_In_Python_English_0422a_part2_module1.ipynb\" target=\"_parent\"><img src=\"https://colab.research.google.com/assets/colab-badge.svg\" alt=\"Open In Colab\"/></a>"
      ]
    },
    {
      "cell_type": "code",
      "execution_count": null,
      "metadata": {
        "colab": {
          "base_uri": "https://localhost:8080/"
        },
        "id": "EmlwRFBTY-jN",
        "outputId": "1a5999d9-b570-4feb-d4f4-4021ec9dd26d"
      },
      "outputs": [
        {
          "output_type": "stream",
          "name": "stdout",
          "text": [
            "x86_64\n",
            "x86_64\n",
            "Linux-5.4.188+-x86_64-with-Ubuntu-18.04-bionic\n",
            "Linux\n",
            "#1 SMP Sun Apr 24 10:03:06 PDT 2022\n",
            "CPython\n",
            "3\n",
            "7\n",
            "13\n"
          ]
        }
      ],
      "source": [
        "from platform import platform, processor, machine, system, version, python_implementation, python_version_tuple\n",
        "\n",
        "print(processor())\n",
        "print(machine())\n",
        "print(platform())\n",
        "print(system())\n",
        "print(version())\n",
        "print(python_implementation())\n",
        "\n",
        "for atr in python_version_tuple():\n",
        "    print(atr)\n"
      ]
    }
  ]
}