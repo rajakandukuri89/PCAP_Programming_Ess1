{
  "nbformat": 4,
  "nbformat_minor": 0,
  "metadata": {
    "colab": {
      "name": "PCAP Programming Ess1.ipynb",
      "provenance": [],
      "collapsed_sections": [],
      "authorship_tag": "ABX9TyP8L5arriOhR7CBozpCC/kB",
      "include_colab_link": true
    },
    "kernelspec": {
      "name": "python3",
      "display_name": "Python 3"
    },
    "language_info": {
      "name": "python"
    }
  },
  "cells": [
    {
      "cell_type": "markdown",
      "metadata": {
        "id": "view-in-github",
        "colab_type": "text"
      },
      "source": [
        "<a href=\"https://colab.research.google.com/github/rajakandukuri89/PCAP_Programming_Ess1_Module3/blob/main/PCAP_Programming_Ess1.ipynb\" target=\"_parent\"><img src=\"https://colab.research.google.com/assets/colab-badge.svg\" alt=\"Open In Colab\"/></a>"
      ]
    },
    {
      "cell_type": "markdown",
      "source": [
        "# This note books presents the Lab task solutions of PCAP - Programming Essentials In Python English 0422a - Module 3"
      ],
      "metadata": {
        "id": "Cf9Ac0SE7gRX"
      }
    },
    {
      "cell_type": "code",
      "execution_count": null,
      "metadata": {
        "colab": {
          "base_uri": "https://localhost:8080/"
        },
        "id": "ybNoXFIQ7Vxw",
        "outputId": "08137b4a-decf-419e-bedc-96f47a228c97"
      },
      "outputs": [
        {
          "output_type": "stream",
          "name": "stdout",
          "text": [
            "1 Mississippi\n",
            "2 Mississippi\n",
            "3 Mississippi\n",
            "4 Mississippi\n",
            "5 Mississippi\n",
            "Ready or not, here I come!\n"
          ]
        }
      ],
      "source": [
        "import time\n",
        "\n",
        "# Write a for loop that counts to five.\n",
        "    # Body of the loop - print the loop iteration number and the word \"Mississippi\".\n",
        "    # Body of the loop - use: time.sleep(1)\n",
        "\n",
        "# Write a print function with the final message.\n",
        "for i in range(1, 6):\n",
        "    print(i, \"Mississippi\")\n",
        "    time.sleep(1)\n",
        "\n",
        "print(\"Ready or not, here I come!\")"
      ]
    },
    {
      "cell_type": "markdown",
      "source": [
        "Design a program that uses a while loop and continuously asks the user to enter a word unless the user enters \"chupacabra\" as the secret exit word, in which case the message \"You've successfully left the loop.\" should be printed to the screen, and the loop should terminate.\n",
        "\n",
        "Don't print any of the words entered by the user. Use the concept of conditional execution and the break statement.\n",
        "\n"
      ],
      "metadata": {
        "id": "LcYJ--dAGUFK"
      }
    },
    {
      "cell_type": "code",
      "source": [
        "while True:\n",
        "    string = input(\"Enter the Screet Word to exit the loop: \")\n",
        "    if string == \"chupacabra\":\n",
        "        break\n",
        "    \n",
        "print(\"You've successfully left the loop.\")"
      ],
      "metadata": {
        "id": "COUCFlkY72t-"
      },
      "execution_count": null,
      "outputs": []
    },
    {
      "cell_type": "markdown",
      "source": [
        "Your task here is very special: you must design a vowel eater! Write a program that uses:\n",
        "\n",
        "a for loop;\n",
        "the concept of conditional execution (if-elif-else)\n",
        "the continue statement.\n",
        "Your program must:\n",
        "\n",
        "ask the user to enter a word;\n",
        "use user_word = user_word.upper() to convert the word entered by the user to upper case; we'll talk about the so-called string methods and the upper() method very soon - don't worry;\n",
        "use conditional execution and the continue statement to \"eat\" the following vowels A, E, I, O, U from the inputted word;\n",
        "print the uneaten letters to the screen, each one of them on a separate line.\n",
        "Test your program with the data we've provided for you.\n",
        "\n"
      ],
      "metadata": {
        "id": "pqBPSkfmJCQo"
      }
    },
    {
      "cell_type": "code",
      "source": [
        "# Prompt the user to enter a word\n",
        "# and assign it to the user_word variable.\n",
        "user_word = input(\"Enter the word you desire: \")\n",
        "user_word = user_word.upper()\n",
        "\n",
        "for letter in user_word:\n",
        "    if letter == 'A':\n",
        "        continue\n",
        "    elif letter == 'E':\n",
        "        continue\n",
        "    elif letter == 'I':\n",
        "        continue\n",
        "    elif letter == 'O':\n",
        "        continue\n",
        "    elif letter == 'U':\n",
        "        continue\n",
        "    else:\n",
        "        print(letter)"
      ],
      "metadata": {
        "id": "H_Bwjgz5JBse"
      },
      "execution_count": null,
      "outputs": []
    },
    {
      "cell_type": "markdown",
      "source": [
        "Your task here is even more special than before: you must redesign the (ugly) vowel eater from the previous lab (3.1.2.10) and create a better, upgraded (pretty) vowel eater! Write a program that uses:\n",
        "\n",
        "a for loop;\n",
        "the concept of conditional execution (if-elif-else)\n",
        "the continue statement.\n",
        "Your program must:\n",
        "\n",
        "ask the user to enter a word;\n",
        "use user_word = user_word.upper() to convert the word entered by the user to upper case; we'll talk about the so-called string methods and the upper() method very soon - don't worry;\n",
        "use conditional execution and the continue statement to \"eat\" the following vowels A, E, I, O, U from the inputted word;\n",
        "assign the uneaten letters to the word_without_vowels variable and print the variable to the screen.\n",
        "Look at the code in the editor. We've created word_without_vowels and assigned an empty string to it. Use concatenation operation to ask Python to combine selected letters into a longer string during subsequent loop turns, and assign it to the word_without_vowels variable."
      ],
      "metadata": {
        "id": "T_-Gm7CbKVH5"
      }
    },
    {
      "cell_type": "code",
      "source": [
        "word_without_vowels = \"\"\n",
        "\n",
        "# Prompt the user to enter a word\n",
        "# and assign it to the user_word variable.\n",
        "user_word = input(\"Enter the word you desire: \")\n",
        "user_word = user_word.upper()\n",
        "\n",
        "for letter in user_word:\n",
        "    # Complete the body of the loop.\n",
        "    if letter == 'A':\n",
        "        continue\n",
        "    elif letter == 'E':\n",
        "        continue\n",
        "    elif letter == 'I':\n",
        "        continue\n",
        "    elif letter == 'O':\n",
        "        continue\n",
        "    elif letter == 'U':\n",
        "        continue\n",
        "    else:\n",
        "        word_without_vowels += letter\n",
        "\n",
        "print(word_without_vowels)  "
      ],
      "metadata": {
        "id": "ntowc6PpKUm-"
      },
      "execution_count": null,
      "outputs": []
    },
    {
      "cell_type": "markdown",
      "source": [
        "Scenario\n",
        "Listen to this story: a boy and his father, a computer programmer, are playing with wooden blocks. They are building a pyramid.\n",
        "\n",
        "Their pyramid is a bit weird, as it is actually a pyramid-shaped wall - it's flat. The pyramid is stacked according to one simple principle: each lower layer contains one block more than the layer above.\n",
        "\n",
        "The figure illustrates the rule used by the builders:\n",
        "\n",
        "\n",
        "\n",
        "Your task is to write a program which reads the number of blocks the builders have, and outputs the height of the pyramid that can be built using these blocks.\n",
        "\n",
        "Note: the height is measured by the number of fully completed layers - if the builders don't have a sufficient number of blocks and cannot complete the next layer, they finish their work immediately.\n",
        "\n",
        "Test your code using the data we've provided.\n",
        "\n"
      ],
      "metadata": {
        "id": "SAYkS-QZwEx-"
      }
    },
    {
      "cell_type": "code",
      "source": [
        "blocks = int(input(\"Enter the number of blocks: \"))\n",
        "\n",
        "height = 0\n",
        "in_layer = 1\n",
        "while in_layer <= blocks:\n",
        "    blocks=blocks-in_layer\n",
        "    in_layer+=1\n",
        "    if(blocks>=0):\n",
        "        height+=1\n",
        "        #print(blocks,in_layer,height)\n",
        "\n",
        "print(\"The height of the pyramid:\", height)\n"
      ],
      "metadata": {
        "id": "Yw6gLyQQwEdG"
      },
      "execution_count": null,
      "outputs": []
    },
    {
      "cell_type": "markdown",
      "source": [
        "Scenario\n",
        "In 1937, a German mathematician named Lothar Collatz formulated an intriguing hypothesis (it still remains unproven) which can be described in the following way:\n",
        "\n",
        "take any non-negative and non-zero integer number and name it c0;\n",
        "if it's even, evaluate a new c0 as c0 ÷ 2;\n",
        "otherwise, if it's odd, evaluate a new c0 as 3 × c0 + 1;\n",
        "if c0 ≠ 1, skip to point 2.\n",
        "The hypothesis says that regardless of the initial value of c0, it will always go to 1.\n",
        "\n",
        "Of course, it's an extremely complex task to use a computer in order to prove the hypothesis for any natural number (it may even require artificial intelligence), but you can use Python to check some individual numbers. Maybe you'll even find the one which would disprove the hypothesis.\n",
        "\n",
        "\n",
        "Write a program which reads one natural number and executes the above steps as long as c0 remains different from 1. We also want you to count the steps needed to achieve the goal. Your code should output all the intermediate values of c0, too.\n",
        "\n",
        "Hint: the most important part of the problem is how to transform Collatz's idea into a while loop - this is the key to success."
      ],
      "metadata": {
        "id": "gHBwMo7twN3U"
      }
    },
    {
      "cell_type": "code",
      "source": [
        "c0 = int(input(\"Enter any non-negative and non-zero integer number: \"))\n",
        "steps=0\n",
        "while(c0!=1):\n",
        "    if c0%2==0:\n",
        "        c0=c0//2\n",
        "    else:\n",
        "        c0=3*c0+1\n",
        "    steps+=1\n",
        "    print(c0)\n",
        "\n",
        "print(\"setps =\", steps)"
      ],
      "metadata": {
        "id": "tb3wyaBawNYR"
      },
      "execution_count": null,
      "outputs": []
    },
    {
      "cell_type": "markdown",
      "source": [
        "Exercise 1\n",
        "\n",
        "Create a for loop that counts from 0 to 10, and prints odd numbers to the screen. Use the skeleton below:"
      ],
      "metadata": {
        "id": "tmGlak4BzPd5"
      }
    },
    {
      "cell_type": "code",
      "source": [
        "for i in range(1, 11):\n",
        "    if i%2!=0:\n",
        "        print(i)"
      ],
      "metadata": {
        "id": "qhqG10RTzPOy"
      },
      "execution_count": null,
      "outputs": []
    },
    {
      "cell_type": "markdown",
      "source": [
        "Create a while loop that counts from 0 to 10, and prints odd numbers to the screen. Use the skeleton below:"
      ],
      "metadata": {
        "id": "IYtfEf1u1SzD"
      }
    },
    {
      "cell_type": "code",
      "source": [
        "x = 1\n",
        "while x < 11:\n",
        "     if x%2!=0:\n",
        "        print(x)\n",
        "     x+=1"
      ],
      "metadata": {
        "id": "snYrZj1v1Scv"
      },
      "execution_count": null,
      "outputs": []
    },
    {
      "cell_type": "markdown",
      "source": [
        "Exercise 3\n",
        "\n",
        "Create a program with a for loop and a break statement. The program should iterate over characters in an email address, exit the loop when it reaches the @ symbol, and print the part before @ on one line. Use the skeleton below:"
      ],
      "metadata": {
        "id": "ERA1ryy82FMk"
      }
    },
    {
      "cell_type": "code",
      "source": [
        "for ch in \"john.smith@pythoninstitute.org\":\n",
        "    if ch == \"@\":\n",
        "        break\n",
        "    print(ch, end=\"\")"
      ],
      "metadata": {
        "id": "r1t7Fgq-2Ew3"
      },
      "execution_count": null,
      "outputs": []
    },
    {
      "cell_type": "markdown",
      "source": [
        "Create a program with a for loop and a continue statement. The program should iterate over a string of digits, replace each 0 with x, and print the modified string to the screen. Use the skeleton below:"
      ],
      "metadata": {
        "id": "vYzVXELA2zTc"
      }
    },
    {
      "cell_type": "code",
      "source": [
        "for digit in \"0165031806510\":\n",
        "    if digit == \"0\":\n",
        "        print(\"x\", end=\"\")\n",
        "        continue\n",
        "    print(digit, end=\"\")"
      ],
      "metadata": {
        "id": "bxThk-_U2zCv"
      },
      "execution_count": null,
      "outputs": []
    },
    {
      "cell_type": "markdown",
      "source": [
        "Scenario\n",
        "There once was a hat. The hat contained no rabbit, but a list of five numbers: 1, 2, 3, 4, and 5.\n",
        "\n",
        "Your task is to:\n",
        "\n",
        "write a line of code that prompts the user to replace the middle number in the list with an integer number entered by the user (Step 1)\n",
        "write a line of code that removes the last element from the list (Step 2)\n",
        "write a line of code that prints the length of the existing list (Step 3)."
      ],
      "metadata": {
        "id": "ksCdfq9luoL2"
      }
    },
    {
      "cell_type": "code",
      "source": [
        "hat_list = [1, 2, 3, 4, 5]  # This is an existing list of numbers hidden in the hat.\n",
        "\n",
        "# Step 1: write a line of code that prompts the user\n",
        "# to replace the middle number with an integer number entered by the user.\n",
        "hat_list[2] = int(input(\"Enter your faviourate no: \"))\n",
        "# Step 2: write a line of code that removes the last element from the list.\n",
        "del hat_list[-1]\n",
        "# Step 3: write a line of code that prints the length of the existing list.\n",
        "print(len(hat_list))\n",
        "print(hat_list)\n"
      ],
      "metadata": {
        "id": "N1GS9Bvfun72"
      },
      "execution_count": null,
      "outputs": []
    }
  ]
}