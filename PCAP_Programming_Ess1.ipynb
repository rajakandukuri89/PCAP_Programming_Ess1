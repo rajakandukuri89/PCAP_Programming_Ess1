{
  "nbformat": 4,
  "nbformat_minor": 0,
  "metadata": {
    "colab": {
      "name": "PCAP Programming Ess1.ipynb",
      "provenance": [],
      "collapsed_sections": [],
      "authorship_tag": "ABX9TyP5K4TiNl/XYo59reUt4iNV",
      "include_colab_link": true
    },
    "kernelspec": {
      "name": "python3",
      "display_name": "Python 3"
    },
    "language_info": {
      "name": "python"
    }
  },
  "cells": [
    {
      "cell_type": "markdown",
      "metadata": {
        "id": "view-in-github",
        "colab_type": "text"
      },
      "source": [
        "<a href=\"https://colab.research.google.com/github/rajakandukuri89/PCAP_Programming_Ess1_Module3/blob/main/PCAP_Programming_Ess1.ipynb\" target=\"_parent\"><img src=\"https://colab.research.google.com/assets/colab-badge.svg\" alt=\"Open In Colab\"/></a>"
      ]
    },
    {
      "cell_type": "markdown",
      "source": [
        "# This note books presents the Lab task solutions of PCAP - Programming Essentials In Python English 0422a - Module 3"
      ],
      "metadata": {
        "id": "Cf9Ac0SE7gRX"
      }
    },
    {
      "cell_type": "code",
      "execution_count": 1,
      "metadata": {
        "colab": {
          "base_uri": "https://localhost:8080/"
        },
        "id": "ybNoXFIQ7Vxw",
        "outputId": "08137b4a-decf-419e-bedc-96f47a228c97"
      },
      "outputs": [
        {
          "output_type": "stream",
          "name": "stdout",
          "text": [
            "1 Mississippi\n",
            "2 Mississippi\n",
            "3 Mississippi\n",
            "4 Mississippi\n",
            "5 Mississippi\n",
            "Ready or not, here I come!\n"
          ]
        }
      ],
      "source": [
        "import time\n",
        "\n",
        "# Write a for loop that counts to five.\n",
        "    # Body of the loop - print the loop iteration number and the word \"Mississippi\".\n",
        "    # Body of the loop - use: time.sleep(1)\n",
        "\n",
        "# Write a print function with the final message.\n",
        "for i in range(1, 6):\n",
        "    print(i, \"Mississippi\")\n",
        "    time.sleep(1)\n",
        "\n",
        "print(\"Ready or not, here I come!\")"
      ]
    },
    {
      "cell_type": "markdown",
      "source": [
        "Design a program that uses a while loop and continuously asks the user to enter a word unless the user enters \"chupacabra\" as the secret exit word, in which case the message \"You've successfully left the loop.\" should be printed to the screen, and the loop should terminate.\n",
        "\n",
        "Don't print any of the words entered by the user. Use the concept of conditional execution and the break statement.\n",
        "\n"
      ],
      "metadata": {
        "id": "LcYJ--dAGUFK"
      }
    },
    {
      "cell_type": "code",
      "source": [
        "while True:\n",
        "    string = input(\"Enter the Screet Word to exit the loop: \")\n",
        "    if string == \"chupacabra\":\n",
        "        break\n",
        "    \n",
        "print(\"You've successfully left the loop.\")"
      ],
      "metadata": {
        "id": "COUCFlkY72t-"
      },
      "execution_count": null,
      "outputs": []
    },
    {
      "cell_type": "markdown",
      "source": [
        "Your task here is very special: you must design a vowel eater! Write a program that uses:\n",
        "\n",
        "a for loop;\n",
        "the concept of conditional execution (if-elif-else)\n",
        "the continue statement.\n",
        "Your program must:\n",
        "\n",
        "ask the user to enter a word;\n",
        "use user_word = user_word.upper() to convert the word entered by the user to upper case; we'll talk about the so-called string methods and the upper() method very soon - don't worry;\n",
        "use conditional execution and the continue statement to \"eat\" the following vowels A, E, I, O, U from the inputted word;\n",
        "print the uneaten letters to the screen, each one of them on a separate line.\n",
        "Test your program with the data we've provided for you.\n",
        "\n"
      ],
      "metadata": {
        "id": "pqBPSkfmJCQo"
      }
    },
    {
      "cell_type": "code",
      "source": [
        "# Prompt the user to enter a word\n",
        "# and assign it to the user_word variable.\n",
        "user_word = input(\"Enter the word you desire: \")\n",
        "user_word = user_word.upper()\n",
        "\n",
        "for letter in user_word:\n",
        "    if letter == 'A':\n",
        "        continue\n",
        "    elif letter == 'E':\n",
        "        continue\n",
        "    elif letter == 'I':\n",
        "        continue\n",
        "    elif letter == 'O':\n",
        "        continue\n",
        "    elif letter == 'U':\n",
        "        continue\n",
        "    else:\n",
        "        print(letter)"
      ],
      "metadata": {
        "id": "H_Bwjgz5JBse"
      },
      "execution_count": null,
      "outputs": []
    }
  ]
}