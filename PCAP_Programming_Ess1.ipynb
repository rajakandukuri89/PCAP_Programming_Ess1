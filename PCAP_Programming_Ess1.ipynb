{
  "nbformat": 4,
  "nbformat_minor": 0,
  "metadata": {
    "colab": {
      "name": "PCAP Programming Ess1.ipynb",
      "provenance": [],
      "collapsed_sections": [],
      "authorship_tag": "ABX9TyPMUC1+LzXML0kDyezasUiX",
      "include_colab_link": true
    },
    "kernelspec": {
      "name": "python3",
      "display_name": "Python 3"
    },
    "language_info": {
      "name": "python"
    }
  },
  "cells": [
    {
      "cell_type": "markdown",
      "metadata": {
        "id": "view-in-github",
        "colab_type": "text"
      },
      "source": [
        "<a href=\"https://colab.research.google.com/github/rajakandukuri89/PCAP_Programming_Ess1_Module3/blob/main/PCAP_Programming_Ess1.ipynb\" target=\"_parent\"><img src=\"https://colab.research.google.com/assets/colab-badge.svg\" alt=\"Open In Colab\"/></a>"
      ]
    },
    {
      "cell_type": "markdown",
      "source": [
        "# This note books presents the Lab task solutions of PCAP - Programming Essentials In Python English 0422a - Module 3"
      ],
      "metadata": {
        "id": "Cf9Ac0SE7gRX"
      }
    },
    {
      "cell_type": "code",
      "execution_count": 1,
      "metadata": {
        "colab": {
          "base_uri": "https://localhost:8080/"
        },
        "id": "ybNoXFIQ7Vxw",
        "outputId": "08137b4a-decf-419e-bedc-96f47a228c97"
      },
      "outputs": [
        {
          "output_type": "stream",
          "name": "stdout",
          "text": [
            "1 Mississippi\n",
            "2 Mississippi\n",
            "3 Mississippi\n",
            "4 Mississippi\n",
            "5 Mississippi\n",
            "Ready or not, here I come!\n"
          ]
        }
      ],
      "source": [
        "import time\n",
        "\n",
        "# Write a for loop that counts to five.\n",
        "    # Body of the loop - print the loop iteration number and the word \"Mississippi\".\n",
        "    # Body of the loop - use: time.sleep(1)\n",
        "\n",
        "# Write a print function with the final message.\n",
        "for i in range(1, 6):\n",
        "    print(i, \"Mississippi\")\n",
        "    time.sleep(1)\n",
        "\n",
        "print(\"Ready or not, here I come!\")"
      ]
    },
    {
      "cell_type": "markdown",
      "source": [
        "Design a program that uses a while loop and continuously asks the user to enter a word unless the user enters \"chupacabra\" as the secret exit word, in which case the message \"You've successfully left the loop.\" should be printed to the screen, and the loop should terminate.\n",
        "\n",
        "Don't print any of the words entered by the user. Use the concept of conditional execution and the break statement.\n",
        "\n"
      ],
      "metadata": {
        "id": "LcYJ--dAGUFK"
      }
    },
    {
      "cell_type": "code",
      "source": [
        "while True:\n",
        "    string = input(\"Enter the Screet Word to exit the loop: \")\n",
        "    if string == \"chupacabra\":\n",
        "        break\n",
        "    \n",
        "print(\"You've successfully left the loop.\")"
      ],
      "metadata": {
        "id": "COUCFlkY72t-"
      },
      "execution_count": null,
      "outputs": []
    }
  ]
}